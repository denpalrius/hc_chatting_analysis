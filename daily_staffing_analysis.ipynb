{
 "cells": [
  {
   "cell_type": "markdown",
   "id": "c2d6b259",
   "metadata": {},
   "source": [
    "# Daily Staffing Analysis\n",
    "\n",
    "This notebook extracts raw data from multiple per-person Excel files and generates a combined raw data table and a daily staffing summary workbook with formatted blocks.\n"
   ]
  },
  {
   "cell_type": "markdown",
   "id": "7e548ed6",
   "metadata": {},
   "source": [
    "# Dependencies\n"
   ]
  },
  {
   "cell_type": "code",
   "execution_count": 69,
   "id": "e7810c2c",
   "metadata": {},
   "outputs": [],
   "source": [
    "# ! pip install pandas xlrd openpyxl -q"
   ]
  },
  {
   "cell_type": "code",
   "execution_count": 70,
   "id": "7f15a274",
   "metadata": {},
   "outputs": [],
   "source": [
    "import glob\n",
    "import os\n",
    "import pandas as pd\n",
    "import xlrd\n",
    "from openpyxl import load_workbook\n",
    "from openpyxl.utils import get_column_letter\n",
    "from openpyxl import Workbook\n",
    "from openpyxl.styles import Font\n",
    "from datetime import datetime"
   ]
  },
  {
   "cell_type": "code",
   "execution_count": 71,
   "id": "dbef6029",
   "metadata": {},
   "outputs": [],
   "source": [
    "# Configuration\n",
    "DATA_FOLDER = \"./data/raw\"\n",
    "COMBINED_CSV = \"./results/combined_raw_data.csv\"\n",
    "\n",
    "OUTPUT_XLSX = \"./results/daily_summary_output.xlsx\"\n",
    "SUMMARY_SHEET = \"DailyMatrix\""
   ]
  },
  {
   "cell_type": "markdown",
   "id": "43f5357d",
   "metadata": {},
   "source": [
    "# Extract raw data\n"
   ]
  },
  {
   "cell_type": "code",
   "execution_count": 72,
   "id": "0eaeaa0c",
   "metadata": {},
   "outputs": [
    {
     "name": "stdout",
     "output_type": "stream",
     "text": [
      "Processing file: ./data/raw/GP.xls | Individual: George Poulston\n",
      "Invalid date format in row 100: Comments/Recommendations\n",
      "Processing file: ./data/raw/HR.xls | Individual: Harold Russell\n",
      "Invalid date format in row 129: Comments/Recommendations\n",
      "Combined raw data saved to ./results/combined_raw_data.csv\n"
     ]
    }
   ],
   "source": [
    "records = []\n",
    "for filepath in glob.glob(os.path.join(DATA_FOLDER, \"*.xls*\")):\n",
    "    wb = xlrd.open_workbook(filepath)\n",
    "    sh = wb.sheet_by_index(0)\n",
    "    individual = (\n",
    "        sh.cell_value(2, 3).split(\",\")[0].strip()\n",
    "    )  # Individual name is in D3 cell, split by comma and take first\n",
    "\n",
    "    print(f\"Processing file: {filepath} | Individual: {individual}\")\n",
    "    # The first 39 rows are metadata and headers, so we start from row 40\n",
    "\n",
    "    date_cell_idx = 0\n",
    "    provider_cell_idx = 6\n",
    "    duration_cell_idx = 3\n",
    "\n",
    "    for rx in range(40, sh.nrows):\n",
    "        date_cell = sh.cell_value(rx, date_cell_idx)\n",
    "        if date_cell in (None, \"\"):\n",
    "            continue\n",
    "        if isinstance(date_cell, str):\n",
    "            try:\n",
    "                dt = pd.to_datetime(date_cell).date()\n",
    "            except ValueError:\n",
    "                print(f\"Invalid date format in row {rx}: {date_cell}\")\n",
    "                continue\n",
    "\n",
    "        provider = sh.cell_value(rx, provider_cell_idx).split(\",\")[0].strip()\n",
    "        duration = sh.cell_value(rx, duration_cell_idx)\n",
    "\n",
    "        records.append(\n",
    "            {\n",
    "                \"Date\": dt,\n",
    "                \"Individual\": individual,\n",
    "                \"Service Provider\": provider,\n",
    "                \"Duration\": duration,\n",
    "            }\n",
    "        )\n",
    "\n",
    "df_raw = pd.DataFrame(records)\n",
    "df_raw.to_csv(COMBINED_CSV, index=False)\n",
    "print(f\"Combined raw data saved to {COMBINED_CSV}\")"
   ]
  },
  {
   "cell_type": "markdown",
   "id": "a91bafc9",
   "metadata": {},
   "source": [
    "# Perform staffing analysis and save to Excel\n"
   ]
  },
  {
   "cell_type": "code",
   "execution_count": null,
   "id": "f487a778",
   "metadata": {},
   "outputs": [
    {
     "name": "stdout",
     "output_type": "stream",
     "text": [
      "Daily summary written to ./results/daily_summary_output.xlsx\n"
     ]
    }
   ],
   "source": [
    "df = pd.read_csv(COMBINED_CSV, parse_dates=[\"Date\"])\n",
    "df[\"Date\"] = df[\"Date\"].dt.date  # ensure pure date for grouping\n",
    "\n",
    "# --- Start a new workbook for summary ---\n",
    "wb = Workbook()\n",
    "ws = wb.active\n",
    "ws.title = SUMMARY_SHEET\n",
    "bold = Font(bold=True)\n",
    "row = 1\n",
    "\n",
    "individuals = sorted(df[\"Individual\"].unique())\n",
    "\n",
    "df[\"Duration\"] = df[\"Duration\"].apply(\n",
    "    lambda x: f\"{x}:00\" if len(str(x).split(\":\")) == 2 else x\n",
    ")\n",
    "df[\"Duration\"] = pd.to_timedelta(df[\"Duration\"]).dt.total_seconds() / 3600\n",
    "\n",
    "\n",
    "# --- Generate per-date blocks with formulas ---\n",
    "for current_date in sorted(df[\"Date\"].unique()):\n",
    "    day_df = df[df[\"Date\"] == current_date]\n",
    "\n",
    "    # Date header\n",
    "    ws.cell(row=row, column=1, value=current_date.strftime(\"%m/%d/%Y\")).font = bold\n",
    "    row += 1\n",
    "\n",
    "    # Column headers\n",
    "    ws.cell(row=row, column=1, value=\"Service Provider\").font = bold\n",
    "    for idx, indiv in enumerate(individuals, start=2):\n",
    "        ws.cell(row=row, column=idx, value=indiv).font = bold\n",
    "    total_col = 2 + len(individuals)\n",
    "    ws.cell(row=row, column=total_col, value=\"Provider Total\").font = bold\n",
    "    row += 1\n",
    "\n",
    "    # Remember where provider rows start\n",
    "    provider_start = row\n",
    "\n",
    "    # One row per service provider\n",
    "    for provider in day_df[\"Service Provider\"].unique():\n",
    "        ws.cell(row=row, column=1, value=provider)\n",
    "\n",
    "        # Write each individual’s hours\n",
    "        for idx, indiv in enumerate(individuals, start=2):\n",
    "            hours = day_df[\n",
    "                (day_df[\"Service Provider\"] == provider)\n",
    "                & (day_df[\"Individual\"] == indiv)\n",
    "            ][\"Duration\"].sum()\n",
    "            ws.cell(row=row, column=idx, value=hours)\n",
    "\n",
    "        # Instead of summing in Python, insert a SUM formula\n",
    "        start_letter = get_column_letter(2)\n",
    "        end_letter = get_column_letter(1 + len(individuals))\n",
    "        sum_range = f\"{start_letter}{row}:{end_letter}{row}\"\n",
    "        total_cell = ws.cell(row=row, column=total_col, value=f\"=SUM({sum_range})\")\n",
    "        total_cell.font = bold\n",
    "\n",
    "        row += 1\n",
    "\n",
    "    # Mark where provider rows end\n",
    "    provider_end = row - 1\n",
    "\n",
    "    # Totals per individual (SUM down each column)\n",
    "    ws.cell(row=row, column=1, value=\"Total hours for individual\").font = bold\n",
    "    for idx in range(2, 2 + len(individuals)):\n",
    "        col_letter = get_column_letter(idx)\n",
    "        formula = f\"=SUM({col_letter}{provider_start}:{col_letter}{provider_end})\"\n",
    "        cell = ws.cell(row=row, column=idx, value=formula)\n",
    "        cell.font = bold\n",
    "    row += 1\n",
    "\n",
    "    # Remaining hours to 24h cap\n",
    "    ws.cell(row=row, column=1, value=\"Total hrs pending in a 24hr period\").font = bold\n",
    "    for idx in range(2, 2 + len(individuals)):\n",
    "        col_letter = get_column_letter(idx)\n",
    "        above_cell = f\"{col_letter}{row-1}\"\n",
    "        formula = f\"=24 - {above_cell}\"\n",
    "        cell = ws.cell(row=row, column=idx, value=formula)\n",
    "        cell.font = bold\n",
    "    row += 2  # blank line before next date\n",
    "\n",
    "# Save\n",
    "wb.save(OUTPUT_XLSX)\n",
    "print(f\"Daily summary written to {OUTPUT_XLSX}\")"
   ]
  }
 ],
 "metadata": {
  "kernelspec": {
   "display_name": "avera_analysis",
   "language": "python",
   "name": "python3"
  },
  "language_info": {
   "codemirror_mode": {
    "name": "ipython",
    "version": 3
   },
   "file_extension": ".py",
   "mimetype": "text/x-python",
   "name": "python",
   "nbconvert_exporter": "python",
   "pygments_lexer": "ipython3",
   "version": "3.11.11"
  }
 },
 "nbformat": 4,
 "nbformat_minor": 5
}
