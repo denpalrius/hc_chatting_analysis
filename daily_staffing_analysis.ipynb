{
 "cells": [
  {
   "cell_type": "markdown",
   "id": "c2d6b259",
   "metadata": {},
   "source": [
    "# Daily Staffing Analysis\n",
    "This notebook extracts raw data from multiple per-person Excel files and generates a combined raw data table and a daily staffing summary workbook with formatted blocks."
   ]
  },
  {
   "cell_type": "code",
   "execution_count": 57,
   "id": "e7810c2c",
   "metadata": {},
   "outputs": [],
   "source": [
    "# ! pip install pandas xlrd openpyxl -q"
   ]
  },
  {
   "cell_type": "code",
   "execution_count": 58,
   "id": "7f15a274",
   "metadata": {},
   "outputs": [],
   "source": [
    "import glob\n",
    "import os\n",
    "import pandas as pd\n",
    "import xlrd\n",
    "from openpyxl import load_workbook\n",
    "from openpyxl import Workbook\n",
    "from openpyxl.styles import Font\n",
    "from datetime import datetime"
   ]
  },
  {
   "cell_type": "code",
   "execution_count": 59,
   "id": "dbef6029",
   "metadata": {},
   "outputs": [],
   "source": [
    "# Configuration\n",
    "DATA_FOLDER = \"./data/raw\" \n",
    "COMBINED_CSV = \"./results/combined_raw_data.csv\""
   ]
  },
  {
   "cell_type": "code",
   "execution_count": 60,
   "id": "0eaeaa0c",
   "metadata": {},
   "outputs": [
    {
     "name": "stdout",
     "output_type": "stream",
     "text": [
      "Processing file: ./data/raw/GP.xls | Individual: George Poulston\n",
      "Invalid date format in row 100: Comments/Recommendations\n",
      "Processing file: ./data/raw/HR.xls | Individual: Harold Russell\n",
      "Invalid date format in row 129: Comments/Recommendations\n",
      "Combined raw data saved to ./results/combined_raw_data.csv\n"
     ]
    }
   ],
   "source": [
    "# Extract raw data\n",
    "records = []\n",
    "for filepath in glob.glob(os.path.join(DATA_FOLDER, \"*.xls*\")):\n",
    "    wb = xlrd.open_workbook(filepath)\n",
    "    sh = wb.sheet_by_index(0)\n",
    "    individual = (\n",
    "        sh.cell_value(2, 3).split(\",\")[0].strip()\n",
    "    )  # Individual name is in D3 cell, split by comma and take first\n",
    "\n",
    "    print(f\"Processing file: {filepath} | Individual: {individual}\")\n",
    "    # The first 39 rows are metadata and headers, so we start from row 40\n",
    "\n",
    "    date_cell_idx = 0\n",
    "    provider_cell_idx = 6\n",
    "    duration_cell_idx = 3\n",
    "\n",
    "    for rx in range(40, sh.nrows):\n",
    "        date_cell = sh.cell_value(rx, date_cell_idx)\n",
    "        if date_cell in (None, \"\"):\n",
    "            continue\n",
    "        if isinstance(date_cell, str):\n",
    "            try:\n",
    "                dt = pd.to_datetime(date_cell).date()\n",
    "            except ValueError:\n",
    "                print(f\"Invalid date format in row {rx}: {date_cell}\")\n",
    "                continue\n",
    "\n",
    "        provider = sh.cell_value(rx, provider_cell_idx).split(\",\")[0].strip()\n",
    "        duration = sh.cell_value(rx, duration_cell_idx)\n",
    "\n",
    "        records.append(\n",
    "            {\n",
    "                \"Date\": dt,\n",
    "                \"Individual\": individual,\n",
    "                \"Service Provider\": provider,\n",
    "                \"Duration\": duration,\n",
    "            }\n",
    "        )\n",
    "\n",
    "df_raw = pd.DataFrame(records)\n",
    "df_raw.to_csv(COMBINED_CSV, index=False)\n",
    "print(f\"Combined raw data saved to {COMBINED_CSV}\")\n",
    "\n",
    "# df_raw.to_excel(COMBINED_XLSX, index=False)\n",
    "# print(f\"Combined raw data saved to {COMBINED_XLSX}\")"
   ]
  },
  {
   "cell_type": "code",
   "execution_count": 61,
   "id": "c98106e7",
   "metadata": {},
   "outputs": [],
   "source": [
    "# --- Configuration ---\n",
    "OUTPUT_XLSX   = \"./results/daily_summary_output.xlsx\"\n",
    "SUMMARY_SHEET = \"DailyMatrix\"\n",
    "\n",
    "# --- Load and prepare raw data ---\n",
    "df = pd.read_csv(COMBINED_CSV, parse_dates=[\"Date\"])\n",
    "df[\"Date\"] = df[\"Date\"].dt.date  # ensure pure date for grouping\n",
    "\n",
    "# --- Start a new workbook for summary ---\n",
    "wb = Workbook()\n",
    "ws = wb.active\n",
    "ws.title = SUMMARY_SHEET\n",
    "bold = Font(bold=True)\n",
    "row = 1\n",
    "\n",
    "individuals = sorted(df[\"Individual\"].unique())"
   ]
  },
  {
   "cell_type": "code",
   "execution_count": null,
   "id": "f62d04b3",
   "metadata": {},
   "outputs": [
    {
     "name": "stdout",
     "output_type": "stream",
     "text": [
      "Daily summary written to ./results/daily_summary_output.xlsx\n"
     ]
    }
   ],
   "source": [
    "# --- Convert Duration to numeric (hours as float) ---\n",
    "# Ensure Duration is in hh:mm:ss format by appending \":00\" if necessary\n",
    "df[\"Duration\"] = df[\"Duration\"].apply(lambda x: f\"{x}:00\" if len(x.split(\":\")) == 2 else x)\n",
    "df[\"Duration\"] = pd.to_timedelta(df[\"Duration\"]).dt.total_seconds() / 3600\n",
    "\n",
    "# --- Generate per-date blocks ---\n",
    "for current_date in sorted(df[\"Date\"].unique()):\n",
    "    day_df = df[df[\"Date\"] == current_date]\n",
    "    \n",
    "    # Date header\n",
    "    ws.cell(row=row, column=1, value=current_date.strftime(\"%m/%d/%Y\")).font = bold\n",
    "    row += 1\n",
    "    \n",
    "    # Column headers\n",
    "    ws.cell(row=row, column=1, value=\"Service Provider\").font = bold\n",
    "    for idx, indiv in enumerate(individuals, start=2):\n",
    "        ws.cell(row=row, column=idx, value=indiv).font = bold\n",
    "    ws.cell(row=row, column=2 + len(individuals), value=\"Provider Total\").font = bold\n",
    "    row += 1\n",
    "    \n",
    "    # One row per service provider\n",
    "    for provider in day_df[\"Service Provider\"].unique():\n",
    "        ws.cell(row=row, column=1, value=provider)\n",
    "        total_h = 0\n",
    "        for idx, indiv in enumerate(individuals, start=2):\n",
    "            hours = day_df[\n",
    "                (day_df[\"Service Provider\"] == provider) &\n",
    "                (day_df[\"Individual\"] == indiv)\n",
    "            ][\"Duration\"].sum()\n",
    "            ws.cell(row=row, column=idx, value=hours)\n",
    "            total_h += hours\n",
    "        ws.cell(row=row, column=2 + len(individuals), value=total_h)\n",
    "        row += 1\n",
    "    \n",
    "    # Totals per individual\n",
    "    ws.cell(row=row, column=1, value=\"Total hours for individual\").font = bold\n",
    "    for idx, indiv in enumerate(individuals, start=2):\n",
    "        tot = day_df[day_df[\"Individual\"] == indiv][\"Duration\"].sum()\n",
    "        ws.cell(row=row, column=idx, value=tot)\n",
    "    row += 1\n",
    "    \n",
    "    # Remaining hours to reach 24h cap\n",
    "    ws.cell(row=row, column=1, value=\"Total hrs pending in a 24hr period\").font = bold\n",
    "    for idx, indiv in enumerate(individuals, start=2):\n",
    "        tot = day_df[day_df[\"Individual\"] == indiv][\"Duration\"].sum()\n",
    "        ws.cell(row=row, column=idx, value=max(24 - tot, 0))\n",
    "    row += 2  # blank line\n",
    "\n",
    "\n",
    "wb.save(OUTPUT_XLSX)\n",
    "print(f\"Daily summary written to {OUTPUT_XLSX}\")\n"
   ]
  }
 ],
 "metadata": {
  "kernelspec": {
   "display_name": "avera_analysis",
   "language": "python",
   "name": "python3"
  },
  "language_info": {
   "codemirror_mode": {
    "name": "ipython",
    "version": 3
   },
   "file_extension": ".py",
   "mimetype": "text/x-python",
   "name": "python",
   "nbconvert_exporter": "python",
   "pygments_lexer": "ipython3",
   "version": "3.11.11"
  }
 },
 "nbformat": 4,
 "nbformat_minor": 5
}
